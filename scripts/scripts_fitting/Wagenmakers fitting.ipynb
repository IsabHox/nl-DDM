{
 "cells": [
  {
   "cell_type": "code",
   "execution_count": 1,
   "id": "e39719cc",
   "metadata": {},
   "outputs": [],
   "source": [
    "import pandas as pd\n",
    "import numpy as np\n",
    "import sys\n",
    "import zipfile\n",
    "\n",
    "sys.path.append('./../../src/')\n",
    "sys.path.append('./../../src/pyddm_extensions/')\n",
    "\n",
    "from utilities import process_Wagenmakers\n",
    "from nlDDM import nlddmWagenmakers\n",
    "from DDM import ddmWagenmakers\n",
    "from extras import ICIntervalRatio\n",
    "\n",
    "from ddm import Model, Fittable\n",
    "from ddm.sample import Sample\n",
    "from ddm.models import NoiseConstant, BoundConstant, OverlayNonDecision, OverlayNonDecisionUniform, LossRobustLikelihood, Drift \n",
    "from ddm.functions import fit_adjust_model, display_model\n",
    "import ddm.plot\n",
    "\n",
    "import matplotlib.pyplot as plt"
   ]
  },
  {
   "cell_type": "markdown",
   "id": "0f3aa65b",
   "metadata": {},
   "source": [
    "If the cell below does not work (that can be the case in particular if you are working with windows), try to download wget from [here](https://eternallybored.org/misc/wget/), and put the wget.exe file in your directory C:/Windows/System32/ . Restart the kernel and run the notebook again.\n",
    "\n",
    "If it still is not working, we recommend downloading directly the zip [here](https://www.ejwagenmakers.com/Code/2008/LexDecData.zip) into the data folder."
   ]
  },
  {
   "cell_type": "code",
   "execution_count": null,
   "id": "4ebeba2d",
   "metadata": {
    "scrolled": true
   },
   "outputs": [],
   "source": [
    "!wget https://www.ejwagenmakers.com/Code/2008/LexDecData.zip -P ../data/Wagenmakers/"
   ]
  },
  {
   "cell_type": "markdown",
   "id": "fb1ac37f",
   "metadata": {},
   "source": [
    "Now, this has downloaded a zip. We need to unzip it and get the file that is interesting for us, which is called \"SpeedAccData.txt\""
   ]
  },
  {
   "cell_type": "code",
   "execution_count": null,
   "id": "2a34fe1c",
   "metadata": {},
   "outputs": [],
   "source": [
    "with zipfile.ZipFile('../data/Wagenmakers/LexDecData.zip','r') as zipObj:\n",
    "    myfile=zipfile.ZipFile.extract(zipObj,'SpeedAccData.txt','../data/Wagenmakers/')"
   ]
  },
  {
   "cell_type": "code",
   "execution_count": null,
   "id": "6644baa3",
   "metadata": {},
   "outputs": [],
   "source": [
    "column_names=['Subject','Block','Practice','Condition','Stimulus','word_type','response','RT','censor']\n",
    "wagenmakers_dat=pd.read_csv('../data/Wagenmakers/SpeedAccData.txt', sep='\\s+', header=None, names=column_names)"
   ]
  },
  {
   "cell_type": "code",
   "execution_count": null,
   "id": "87d04d93",
   "metadata": {},
   "outputs": [],
   "source": [
    "filtered_dat = process_Wagenmakers(wagenmakers_dat)"
   ]
  },
  {
   "cell_type": "code",
   "execution_count": null,
   "id": "c4d759f7",
   "metadata": {},
   "outputs": [],
   "source": [
    "subjects=np.unique(filtered_dat['Subject'])\n",
    "subject=subjects[0]\n",
    "\n",
    "acc_df=filtered_dat[(filtered_dat.Condition==0) & (filtered_dat.Subject==subject)]\n",
    "speed_df=filtered_dat[(filtered_dat.Condition==1) & (filtered_dat.Subject==subject)]\n",
    "\n",
    "acc_sample = Sample.from_pandas_dataframe(acc_df, rt_column_name=\"RT\", correct_column_name=\"correct\")\n",
    "speed_sample=Sample.from_pandas_dataframe(speed_df, rt_column_name=\"RT\", correct_column_name=\"correct\")\n",
    "\n"
   ]
  },
  {
   "cell_type": "code",
   "execution_count": null,
   "id": "684f7471",
   "metadata": {},
   "outputs": [],
   "source": [
    "a_nl=Fittable(minval = .1, maxval = 5)\n",
    "\n",
    "non_lin_model_acc=Model(name=\"my model\", drift=nlddmWagenmakers(k=Fittable(minval = .1, maxval = 10),\n",
    "                                   a=a_nl,\n",
    "                                   z1=Fittable(minval = -1, maxval=1),#\n",
    "                                   z2=Fittable(minval = -1, maxval=1),#\n",
    "                                   z3=Fittable(minval = -1, maxval=1),#\n",
    "                                   zNW=Fittable(minval = -1, maxval=1)),#\n",
    "         noise=NoiseConstant(noise=Fittable(minval=0.1, maxval=3)),\n",
    "         bound=BoundConstant(B=a_nl), \n",
    "         IC = ICIntervalRatio(x0=0, sz=Fittable(minval=0., maxval=1.)),\n",
    "         overlay=OverlayNonDecision(nondectime=Fittable(minval = 0.1, maxval = 0.8)),\n",
    "         dx=0.005,\n",
    "         dt=0.005,\n",
    "         T_dur=3.0)\n",
    "\n",
    "ddm_model_acc=Model(name=\"my DDM\", drift=ddmWagenmakers(vNW=Fittable(minval = .01, maxval = 1), \n",
    "                                      v1=Fittable(minval = 0.01, maxval=1),\n",
    "                                      v2=Fittable(minval = 0.01, maxval=1),\n",
    "                                      v3=Fittable(minval = 0.01, maxval=1)),\n",
    "            noise=NoiseConstant(noise=Fittable(minval = 0.1, maxval = 3)),\n",
    "            bound=BoundConstant(B=Fittable(minval=0.1,maxval=1)),\n",
    "            IC = ICIntervalRatio(x0=Fittable(minval=-1, maxval=1), sz=Fittable(minval=0., maxval=1.)),\n",
    "            overlay=OverlayNonDecisionUniform(nondectime=Fittable(minval=0.1, maxval=0.8), halfwidth=Fittable(minval=0., maxval=0.2)),\n",
    "            dx=0.005,\n",
    "            dt=0.005,\n",
    "            T_dur=3.0)\n",
    "                    \n",
    "print('Processing subject number {}/{}'.format(subject,np.max(subjects)))\n",
    "\n",
    "fit_adjust_model(acc_sample, ddm_model_acc,\n",
    "                      fitting_method=\"differential_evolution\",\n",
    "                      method=\"implicit\",\n",
    "                      lossfunction=LossRobustLikelihood, verbose=False)\n",
    "fit_adjust_model(acc_sample, non_lin_model_acc,\n",
    "                      fitting_method=\"differential_evolution\",\n",
    "                      method=\"implicit\",\n",
    "                      lossfunction=LossRobustLikelihood, verbose=False)"
   ]
  },
  {
   "cell_type": "markdown",
   "id": "ad8bead8",
   "metadata": {},
   "source": [
    "Here we can plot the result of the fitting"
   ]
  },
  {
   "cell_type": "code",
   "execution_count": null,
   "id": "69f78666",
   "metadata": {},
   "outputs": [],
   "source": [
    "plt.figure()\n",
    "ddm.plot.plot_fit_diagnostics(model=non_lin_model_acc, sample=acc_sample)\n",
    "plt.figure()\n",
    "ddm.plot.plot_fit_diagnostics(model=ddm_model_acc, sample=acc_sample)"
   ]
  },
  {
   "cell_type": "markdown",
   "id": "b6fd942b",
   "metadata": {},
   "source": [
    "Now that the accuracy condition is fitted, we can fit the speed condiiton"
   ]
  },
  {
   "cell_type": "code",
   "execution_count": null,
   "id": "ca741f32",
   "metadata": {},
   "outputs": [],
   "source": [
    "nl_param_names=non_lin_model_acc.get_model_parameter_names()\n",
    "dm_param_names=ddm_model_acc.get_model_parameter_names()\n",
    "\n",
    "nl_acc_params=non_lin_model_acc.get_model_parameters()\n",
    "dm_acc_params=ddm_model_acc.get_model_parameters()\n",
    "\n",
    "non_lin_model_speed=Model(name=\"my model\", drift=nlddmWagenmakers(k=nl_acc_params[nl_param_names.index('k')].default(),\n",
    "                                   a=a_nl,\n",
    "                                   z1=nl_acc_params[nl_param_names.index('z1')].default(),#\n",
    "                                   z2=nl_acc_params[nl_param_names.index('z2')].default(),#\n",
    "                                   z3=nl_acc_params[nl_param_names.index('z3')].default(),#\n",
    "                                   zNW=nl_acc_params[nl_param_names.index('zNW')].default()),#\n",
    "         noise=NoiseConstant(noise=nl_acc_params[nl_param_names.index('noise')].default()),\n",
    "         bound=BoundConstant(B=a_nl), \n",
    "         IC = ICIntervalRatio(x0=0, sz=Fittable(minval=0., maxval=1.)),\n",
    "         overlay=OverlayNonDecision(nondectime=Fittable(minval = 0.1, maxval = 0.8)),\n",
    "\n",
    "         dx=0.005,\n",
    "         dt=0.005,\n",
    "         T_dur=3.0)\n",
    "\n",
    "ddm_model_speed=Model(name=\"my DDM\", drift=ddmWagenmakers(vNW=dm_acc_params[dm_param_names.index('vNW')].default(), \n",
    "                                      v1=dm_acc_params[dm_param_names.index('v1')].default(),\n",
    "                                      v2=dm_acc_params[dm_param_names.index('v2')].default(),\n",
    "                                      v3=dm_acc_params[dm_param_names.index('v3')].default()),\n",
    "            noise=NoiseConstant(noise=dm_acc_params[dm_param_names.index('noise')].default()),\n",
    "            bound=BoundConstant(B=Fittable(minval=0.1,maxval=1)),\n",
    "            IC = ICIntervalRatio(x0=Fittable(minval=-1, maxval=1), sz=dm_acc_params[dm_param_names.index('sz')].default()),\n",
    "            overlay=OverlayNonDecisionUniform(nondectime=Fittable(minval=0.1, maxval=0.8), halfwidth=dm_acc_params[dm_param_names.index('halfwidth')].default()),\n",
    "            dx=0.005,\n",
    "            dt=0.005,\n",
    "            T_dur=3.0)\n",
    "                    \n",
    "print('Processing subject number {}/{}'.format(subject,np.max(subjects)))\n",
    "\n",
    "fit_adjust_model(speed_sample, ddm_model_speed,\n",
    "                      fitting_method=\"differential_evolution\",\n",
    "                      method=\"implicit\",\n",
    "                      lossfunction=LossRobustLikelihood, verbose=False)\n",
    "fit_adjust_model(speed_sample, non_lin_model_speed,\n",
    "                      fitting_method=\"differential_evolution\",\n",
    "                      method=\"implicit\",\n",
    "                      lossfunction=LossRobustLikelihood, verbose=False)"
   ]
  },
  {
   "cell_type": "markdown",
   "id": "5bc0571c",
   "metadata": {},
   "source": [
    "Plot again"
   ]
  },
  {
   "cell_type": "code",
   "execution_count": null,
   "id": "ceaa9b7b",
   "metadata": {},
   "outputs": [],
   "source": [
    "plt.figure()\n",
    "ddm.plot.plot_fit_diagnostics(model=non_lin_model_speed, sample=speed_sample)\n",
    "plt.figure()\n",
    "ddm.plot.plot_fit_diagnostics(model=ddm_model_speed, sample=speed_sample)"
   ]
  }
 ],
 "metadata": {
  "kernelspec": {
   "display_name": "Python 3 (ipykernel)",
   "language": "python",
   "name": "python3"
  },
  "language_info": {
   "codemirror_mode": {
    "name": "ipython",
    "version": 3
   },
   "file_extension": ".py",
   "mimetype": "text/x-python",
   "name": "python",
   "nbconvert_exporter": "python",
   "pygments_lexer": "ipython3",
   "version": "3.8.11"
  }
 },
 "nbformat": 4,
 "nbformat_minor": 5
}
